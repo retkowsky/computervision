{
 "cells": [
  {
   "cell_type": "markdown",
   "id": "4c58f85c",
   "metadata": {},
   "source": [
    "# Augmentor for Data Augmentation\n",
    "https://augmentor.readthedocs.io/en/master/index.html"
   ]
  },
  {
   "cell_type": "code",
   "execution_count": 1,
   "id": "08e8dc7c",
   "metadata": {},
   "outputs": [],
   "source": [
    "import Augmentor"
   ]
  },
  {
   "cell_type": "code",
   "execution_count": 4,
   "id": "7cdb22bb",
   "metadata": {},
   "outputs": [
    {
     "name": "stdout",
     "output_type": "stream",
     "text": [
      "Total images = 9\n",
      "images/green1.jpg  images/orange1.jpg  images/red1.jpg\r\n",
      "images/green2.jpg  images/orange2.jpg  images/red2.jpg\r\n",
      "images/green3.jpg  images/orange3.jpg  images/red3.jpg\r\n"
     ]
    }
   ],
   "source": [
    "count=0\n",
    "for root, _, files in os.walk('images/'):\n",
    "    count=count+len(files)\n",
    "print(\"Total images =\", count)\n",
    "!ls images/*.*"
   ]
  },
  {
   "cell_type": "code",
   "execution_count": 5,
   "id": "2102cd7d",
   "metadata": {},
   "outputs": [
    {
     "name": "stderr",
     "output_type": "stream",
     "text": [
      "\r",
      "Executing Pipeline:   0%|          | 0/150 [00:00<?, ? Samples/s]"
     ]
    },
    {
     "name": "stdout",
     "output_type": "stream",
     "text": [
      "Initialised with 9 image(s) found.\n",
      "Output directory set to images/output."
     ]
    },
    {
     "name": "stderr",
     "output_type": "stream",
     "text": [
      "Processing <PIL.Image.Image image mode=RGB size=1004x669 at 0x7F290C151320>: 100%|██████████| 150/150 [00:05<00:00, 25.15 Samples/s]                   \n"
     ]
    }
   ],
   "source": [
    "p = Augmentor.Pipeline(\"images\")\n",
    "\n",
    "p.rotate(probability=0.3, max_left_rotation=15, max_right_rotation=15)\n",
    "p.zoom(probability=0.2, min_factor=1.1, max_factor=1)\n",
    "p.flip_left_right(probability=0.2)\n",
    "p.skew(probability=0.1)\n",
    "p.shear(probability=0.1, max_shear_left=0.2, max_shear_right=0.2)\n",
    "p.sample(150)"
   ]
  },
  {
   "cell_type": "code",
   "execution_count": 7,
   "id": "d1a441fe",
   "metadata": {},
   "outputs": [
    {
     "name": "stdout",
     "output_type": "stream",
     "text": [
      "Operations: 5\n",
      "\t0: RotateRange (probability=0.3 max_left_rotation=-15 max_right_rotation=15 )\n",
      "\t1: Zoom (probability=0.2 min_factor=1.1 max_factor=1 )\n",
      "\t2: Flip (probability=0.2 top_bottom_left_right=LEFT_RIGHT )\n",
      "\t3: Skew (probability=0.1 skew_type=RANDOM magnitude=1 )\n",
      "\t4: Shear (probability=0.1 max_shear_left=0.2 max_shear_right=0.2 )\n",
      "Images: 9\n",
      "Classes: 1\n",
      "\tClass index: 0 Class label: images \n",
      "Dimensions: 8\n",
      "\tWidth: 183 Height: 275\n",
      "\tWidth: 474 Height: 632\n",
      "\tWidth: 480 Height: 640\n",
      "\tWidth: 1000 Height: 625\n",
      "\tWidth: 1594 Height: 1044\n",
      "\tWidth: 600 Height: 400\n",
      "\tWidth: 1004 Height: 669\n",
      "\tWidth: 408 Height: 747\n",
      "Formats: 1\n",
      "\t JPEG\n",
      "\n",
      "You can remove operations using the appropriate index and the remove_operation(index) function.\n"
     ]
    }
   ],
   "source": [
    "p.status()"
   ]
  },
  {
   "cell_type": "code",
   "execution_count": 8,
   "id": "b6b16e56",
   "metadata": {},
   "outputs": [
    {
     "name": "stdout",
     "output_type": "stream",
     "text": [
      "Total images generated = 150\n"
     ]
    }
   ],
   "source": [
    "count=0\n",
    "for root, _, files in os.walk('images/output'):\n",
    "    count=count+len(files)\n",
    "print(\"Total images generated =\", count)"
   ]
  },
  {
   "cell_type": "code",
   "execution_count": null,
   "id": "f79eab6d",
   "metadata": {},
   "outputs": [],
   "source": [
    "from zipfile import ZipFile\n",
    "import os\n",
    "from os.path import basename\n",
    "\n",
    "with ZipFile('augmentedimages.zip', 'w') as zipObj:\n",
    "   # Iterate over all the files in directory\n",
    "   for folderName, subfolders, filenames in os.walk('images'):\n",
    "       for filename in filenames:\n",
    "           #create complete filepath of file in directory\n",
    "           filePath = os.path.join(folderName, filename)\n",
    "           # Add file to zip\n",
    "           zipObj.write(filePath, basename(filePath))"
   ]
  },
  {
   "cell_type": "code",
   "execution_count": null,
   "id": "9e9a2cc0",
   "metadata": {},
   "outputs": [],
   "source": [
    "!ls augmentedimages.zip -l"
   ]
  },
  {
   "cell_type": "code",
   "execution_count": null,
   "id": "899b43fa",
   "metadata": {},
   "outputs": [],
   "source": []
  }
 ],
 "metadata": {
  "kernelspec": {
   "display_name": "Python 3.6 - AzureML",
   "language": "python",
   "name": "python3-azureml"
  },
  "language_info": {
   "codemirror_mode": {
    "name": "ipython",
    "version": 3
   },
   "file_extension": ".py",
   "mimetype": "text/x-python",
   "name": "python",
   "nbconvert_exporter": "python",
   "pygments_lexer": "ipython3",
   "version": "3.6.9"
  }
 },
 "nbformat": 4,
 "nbformat_minor": 5
}
